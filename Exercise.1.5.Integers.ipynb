{
 "cells": [
  {
   "cell_type": "code",
   "execution_count": 1,
   "id": "3f5a93db-c79c-49f7-8a55-4cf12c26b6f4",
   "metadata": {},
   "outputs": [
    {
     "data": {
      "text/plain": [
       "1.6666666666666667"
      ]
     },
     "execution_count": 1,
     "metadata": {},
     "output_type": "execute_result"
    }
   ],
   "source": [
    "5 / 3\n",
    "# Prints 1.66 because \"/\" means division"
   ]
  },
  {
   "cell_type": "code",
   "execution_count": 2,
   "id": "3176d9bd-48d4-479d-b66c-b10a1e79da1c",
   "metadata": {},
   "outputs": [
    {
     "data": {
      "text/plain": [
       "2"
      ]
     },
     "execution_count": 2,
     "metadata": {},
     "output_type": "execute_result"
    }
   ],
   "source": [
    "5 % 3\n",
    "# Prints 2 because \"%\" means remaind"
   ]
  },
  {
   "cell_type": "code",
   "execution_count": 3,
   "id": "9d9a8a77-ee8a-4b85-ae69-1d510270247a",
   "metadata": {},
   "outputs": [
    {
     "data": {
      "text/plain": [
       "1.6666666666666667"
      ]
     },
     "execution_count": 3,
     "metadata": {},
     "output_type": "execute_result"
    }
   ],
   "source": [
    " 5.0 / 3\n",
    "# Prints 1.66 because \"/\" means division"
   ]
  },
  {
   "cell_type": "code",
   "execution_count": 4,
   "id": "295a44a8-aaa3-4705-bde4-f8c58f6e3f28",
   "metadata": {},
   "outputs": [
    {
     "data": {
      "text/plain": [
       "1.6666666666666667"
      ]
     },
     "execution_count": 4,
     "metadata": {},
     "output_type": "execute_result"
    }
   ],
   "source": [
    "5 / 3.0\n",
    "# Prints 1.66 because \"/\" means division"
   ]
  },
  {
   "cell_type": "code",
   "execution_count": 5,
   "id": "d46f0ee7-548b-4d6b-96ad-2d5837a7bb08",
   "metadata": {},
   "outputs": [
    {
     "data": {
      "text/plain": [
       "2.2"
      ]
     },
     "execution_count": 5,
     "metadata": {},
     "output_type": "execute_result"
    }
   ],
   "source": [
    "5.2 % 3\n",
    "# Prints 2 because \"%\" means remaind"
   ]
  },
  {
   "cell_type": "code",
   "execution_count": 6,
   "id": "a2c5bc91-ffd4-408d-9b67-55bf552e585c",
   "metadata": {},
   "outputs": [
    {
     "data": {
      "text/plain": [
       "1775896810483121914350934797871501063452843428843794422323202530887281536545210629921129898113201749875234297340507804201761453596034016264189501186924066128377025843892373608427790859511135990682732202975330824797118808624727351608183194154557208730494440110429635650057431833674286462463508755276302896154336475782768613964332764108132533925570342220340698973761380541294970139762186212823359128790706292900765512137078550033912252338262922477518858757114840012576514724742388124595061301502222934806074032688691170880996881967426442947828261057852871032366879179996122216385870273020506079240103910728766397733398071775041745854959302025036249707279600400001"
      ]
     },
     "execution_count": 6,
     "metadata": {},
     "output_type": "execute_result"
    }
   ],
   "source": [
    "2001 ** 200\n",
    "# \"**\" 2001 over 200\n",
    "# result = base ** exponent"
   ]
  },
  {
   "cell_type": "code",
   "execution_count": null,
   "id": "b50f4fb6-0351-4c0a-8ddd-ed8b625c9997",
   "metadata": {},
   "outputs": [],
   "source": []
  }
 ],
 "metadata": {
  "kernelspec": {
   "display_name": "Python 3 (ipykernel)",
   "language": "python",
   "name": "python3"
  },
  "language_info": {
   "codemirror_mode": {
    "name": "ipython",
    "version": 3
   },
   "file_extension": ".py",
   "mimetype": "text/x-python",
   "name": "python",
   "nbconvert_exporter": "python",
   "pygments_lexer": "ipython3",
   "version": "3.10.2"
  }
 },
 "nbformat": 4,
 "nbformat_minor": 5
}
