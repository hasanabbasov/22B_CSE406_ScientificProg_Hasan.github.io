{
 "cells": [
  {
   "cell_type": "code",
   "execution_count": 10,
   "id": "ed0a8227-6b66-46ef-92cf-e2b5a1c6a19e",
   "metadata": {},
   "outputs": [
    {
     "name": "stdout",
     "output_type": "stream",
     "text": [
      "385\n",
      "770\n",
      "1155\n",
      "1540\n",
      "1925\n",
      "2310\n",
      "2695\n",
      "3080\n",
      "3465\n",
      "3850\n",
      "4235\n",
      "4620\n",
      "5005\n",
      "5390\n",
      "5775\n",
      "6160\n",
      "6545\n",
      "6930\n",
      "7315\n",
      "7700\n"
     ]
    }
   ],
   "source": [
    "x = 1\n",
    "myNumberFound = 0\n",
    "while myNumberFound < 20:\n",
    "    if ( x % 5 == 0 and x % 7 == 0 and x % 11 == 0):\n",
    "        print(x)\n",
    "        myNumberFound += 1\n",
    "    x += 1\n"
   ]
  },
  {
   "cell_type": "code",
   "execution_count": null,
   "id": "7a196cd2-f559-4b86-84b9-33aad73de73a",
   "metadata": {},
   "outputs": [],
   "source": []
  },
  {
   "cell_type": "code",
   "execution_count": null,
   "id": "c7f96adf-fc7a-4143-bb41-d99ec6854b3f",
   "metadata": {},
   "outputs": [],
   "source": []
  }
 ],
 "metadata": {
  "kernelspec": {
   "display_name": "Python 3 (ipykernel)",
   "language": "python",
   "name": "python3"
  },
  "language_info": {
   "codemirror_mode": {
    "name": "ipython",
    "version": 3
   },
   "file_extension": ".py",
   "mimetype": "text/x-python",
   "name": "python",
   "nbconvert_exporter": "python",
   "pygments_lexer": "ipython3",
   "version": "3.10.2"
  }
 },
 "nbformat": 4,
 "nbformat_minor": 5
}
