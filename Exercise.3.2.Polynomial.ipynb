{
 "cells": [
  {
   "cell_type": "code",
   "execution_count": 1,
   "id": "0c7c97d8-d87d-424a-8230-db62ebab218a",
   "metadata": {},
   "outputs": [
    {
     "name": "stdout",
     "output_type": "stream",
     "text": [
      "4\n"
     ]
    }
   ],
   "source": [
    "# 3x2 − x + 2\n",
    "myPolynomial = [3, -1, 2]\n",
    "# this is an example value\n",
    "x = 1\n",
    "length = len(myPolynomial)\n",
    "answer = 0\n",
    "for i in range(length):\n",
    "    Total = myPolynomial[i]\n",
    "    for j in range(length - i - 1):\n",
    "        Total = Total * x\n",
    "    answer = answer + Total\n",
    "print(answer)"
   ]
  },
  {
   "cell_type": "code",
   "execution_count": null,
   "id": "cc119c25-c923-4110-80c0-f9b2257970df",
   "metadata": {},
   "outputs": [],
   "source": []
  }
 ],
 "metadata": {
  "kernelspec": {
   "display_name": "Python 3 (ipykernel)",
   "language": "python",
   "name": "python3"
  },
  "language_info": {
   "codemirror_mode": {
    "name": "ipython",
    "version": 3
   },
   "file_extension": ".py",
   "mimetype": "text/x-python",
   "name": "python",
   "nbconvert_exporter": "python",
   "pygments_lexer": "ipython3",
   "version": "3.10.2"
  }
 },
 "nbformat": 4,
 "nbformat_minor": 5
}
