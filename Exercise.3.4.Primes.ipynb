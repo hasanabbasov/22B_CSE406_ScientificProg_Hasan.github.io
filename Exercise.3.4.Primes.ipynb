{
 "cells": [
  {
   "cell_type": "code",
   "execution_count": 51,
   "id": "a728e6ef-8559-4db1-82ba-cd9839693509",
   "metadata": {},
   "outputs": [
    {
     "data": {
      "text/plain": [
       "True"
      ]
     },
     "execution_count": 51,
     "metadata": {},
     "output_type": "execute_result"
    }
   ],
   "source": [
    "# A)\n",
    "def is_prime(n):\n",
    "    if n <=1:\n",
    "        return False\n",
    "    else:\n",
    "        for i in range(2,n):\n",
    "            if n % i == 1:\n",
    "                return True\n",
    "            else:\n",
    "                return False"
   ]
  },
  {
   "cell_type": "code",
   "execution_count": 52,
   "id": "3b77cf93-e2cf-42ed-85bb-43ec29c1c0d4",
   "metadata": {},
   "outputs": [
    {
     "data": {
      "text/plain": [
       "False"
      ]
     },
     "execution_count": 52,
     "metadata": {},
     "output_type": "execute_result"
    }
   ],
   "source": [
    "# B)\n",
    "def is_prime(n): \n",
    "    if ((n <= 1) or (n % 2 == 0 or n % 3 == 0)): \n",
    "        return False\n",
    "    if (n <= 3): \n",
    "        return True\n",
    "    i = 5\n",
    "    while(i * i <= n): \n",
    "        if (n % i == 0 or n % (i + 2) == 0): \n",
    "            return False\n",
    "        i =+ 6\n",
    "    return True"
   ]
  },
  {
   "cell_type": "code",
   "execution_count": null,
   "id": "2c352fc5-c366-4ccc-a90c-f2ed6412f6d9",
   "metadata": {},
   "outputs": [],
   "source": [
    "# C)\n",
    "def isPrime(n):\n",
    "    if n <= 1 :\n",
    "        return False\n",
    "    for i in range(2, n):\n",
    "        if n % i == 0:\n",
    "            return False\n",
    "    return True\n",
    "def outputPrimeNumber(n):\n",
    "    for i in range(2, n + 1):\n",
    "        if isPrime(i):\n",
    "            print(i)"
   ]
  },
  {
   "cell_type": "code",
   "execution_count": null,
   "id": "b31f80d5-fe1d-45aa-95b8-3cda5b508087",
   "metadata": {},
   "outputs": [],
   "source": [
    "# D)\n",
    "def isPrime(n):\n",
    "    if n <= 1 :\n",
    "        return False\n",
    "    for i in range(2, n):\n",
    "        if n % i == 0:\n",
    "            return False\n",
    "    return True\n",
    "def outputPrimeNumber(n):\n",
    "    for i in range(2, n + 1):\n",
    "        if isPrime(i):\n",
    "            print(i)\n",
    "            break"
   ]
  },
  {
   "cell_type": "code",
   "execution_count": null,
   "id": "bd287233-99f7-41e2-b593-9426fae04ff2",
   "metadata": {},
   "outputs": [],
   "source": []
  }
 ],
 "metadata": {
  "kernelspec": {
   "display_name": "Python 3 (ipykernel)",
   "language": "python",
   "name": "python3"
  },
  "language_info": {
   "codemirror_mode": {
    "name": "ipython",
    "version": 3
   },
   "file_extension": ".py",
   "mimetype": "text/x-python",
   "name": "python",
   "nbconvert_exporter": "python",
   "pygments_lexer": "ipython3",
   "version": "3.10.2"
  }
 },
 "nbformat": 4,
 "nbformat_minor": 5
}
