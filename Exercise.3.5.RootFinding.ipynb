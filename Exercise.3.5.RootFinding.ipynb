{
 "cells": [
  {
   "cell_type": "code",
   "execution_count": 4,
   "id": "4601c8b1-72a2-4b3d-84b1-936734481fa6",
   "metadata": {},
   "outputs": [],
   "source": [
    "def root(f,a,b):\n",
    "    if f(a)*f(b) > 0:\n",
    "        print(\"function evals have same sign\")\n",
    "        return None\n",
    "    c = (a+b)/2\n",
    "    while(abs(f(c))>1e-8):\n",
    "        if f(a)*f(c)>0:\n",
    "            a=c\n",
    "        b=c\n",
    "    return c"
   ]
  },
  {
   "cell_type": "code",
   "execution_count": null,
   "id": "1f61b4a4-c0f8-42e4-b0b0-5ed47438de88",
   "metadata": {},
   "outputs": [],
   "source": []
  }
 ],
 "metadata": {
  "kernelspec": {
   "display_name": "Python 3 (ipykernel)",
   "language": "python",
   "name": "python3"
  },
  "language_info": {
   "codemirror_mode": {
    "name": "ipython",
    "version": 3
   },
   "file_extension": ".py",
   "mimetype": "text/x-python",
   "name": "python",
   "nbconvert_exporter": "python",
   "pygments_lexer": "ipython3",
   "version": "3.10.2"
  }
 },
 "nbformat": 4,
 "nbformat_minor": 5
}
