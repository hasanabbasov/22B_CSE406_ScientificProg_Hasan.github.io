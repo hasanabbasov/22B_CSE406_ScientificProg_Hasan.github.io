{
 "cells": [
  {
   "cell_type": "code",
   "execution_count": 1,
   "id": "2493f818-867c-4b6c-80cc-093bc726b325",
   "metadata": {},
   "outputs": [
    {
     "data": {
      "text/plain": [
       "True"
      ]
     },
     "execution_count": 1,
     "metadata": {},
     "output_type": "execute_result"
    }
   ],
   "source": [
    "1==1\n",
    "# suppresses true because they are equal"
   ]
  },
  {
   "cell_type": "code",
   "execution_count": 2,
   "id": "7e44a05f-59e1-4413-a6db-7aad3bb603a5",
   "metadata": {},
   "outputs": [
    {
     "data": {
      "text/plain": [
       "True"
      ]
     },
     "execution_count": 2,
     "metadata": {},
     "output_type": "execute_result"
    }
   ],
   "source": [
    "1 == True\n",
    "# again suppresses true"
   ]
  },
  {
   "cell_type": "code",
   "execution_count": 3,
   "id": "179f4d76-563f-401b-9f82-c0bc8f1d6211",
   "metadata": {},
   "outputs": [
    {
     "data": {
      "text/plain": [
       "False"
      ]
     },
     "execution_count": 3,
     "metadata": {},
     "output_type": "execute_result"
    }
   ],
   "source": [
    " 0 == True\n",
    "# false is returned because true is set to 1"
   ]
  },
  {
   "cell_type": "code",
   "execution_count": 4,
   "id": "c89b6f18-f045-40dc-b4a2-b2866422cd65",
   "metadata": {},
   "outputs": [
    {
     "data": {
      "text/plain": [
       "True"
      ]
     },
     "execution_count": 4,
     "metadata": {},
     "output_type": "execute_result"
    }
   ],
   "source": [
    "0 == False\n",
    "# true suppresses because 0 equals false"
   ]
  },
  {
   "cell_type": "code",
   "execution_count": 5,
   "id": "fde7081e-8b1a-49e1-bdac-afe5c5b8b127",
   "metadata": {},
   "outputs": [
    {
     "data": {
      "text/plain": [
       "True"
      ]
     },
     "execution_count": 5,
     "metadata": {},
     "output_type": "execute_result"
    }
   ],
   "source": [
    "3 == 1 * 3\n",
    "# returns true because equality is true"
   ]
  },
  {
   "cell_type": "code",
   "execution_count": 6,
   "id": "af0aa157-7048-4379-b096-5f24a0cdae05",
   "metadata": {},
   "outputs": [
    {
     "data": {
      "text/plain": [
       "0"
      ]
     },
     "execution_count": 6,
     "metadata": {},
     "output_type": "execute_result"
    }
   ],
   "source": [
    "(3 == 1) * 3"
   ]
  },
  {
   "cell_type": "code",
   "execution_count": 7,
   "id": "be77bc3b-8f11-4173-8490-a4b26cfd5fbb",
   "metadata": {},
   "outputs": [
    {
     "data": {
      "text/plain": [
       "False"
      ]
     },
     "execution_count": 7,
     "metadata": {},
     "output_type": "execute_result"
    }
   ],
   "source": [
    "(3 == 3) * 4 + 3 == 1"
   ]
  },
  {
   "cell_type": "code",
   "execution_count": 8,
   "id": "45e4e9ba-90bc-47f0-b6a8-56691295744e",
   "metadata": {},
   "outputs": [
    {
     "data": {
      "text/plain": [
       "False"
      ]
     },
     "execution_count": 8,
     "metadata": {},
     "output_type": "execute_result"
    }
   ],
   "source": [
    "3**5 >= 4**4"
   ]
  },
  {
   "cell_type": "code",
   "execution_count": null,
   "id": "8f493d62-4f14-40ab-977a-eeee07959a8e",
   "metadata": {},
   "outputs": [],
   "source": []
  }
 ],
 "metadata": {
  "kernelspec": {
   "display_name": "Python 3 (ipykernel)",
   "language": "python",
   "name": "python3"
  },
  "language_info": {
   "codemirror_mode": {
    "name": "ipython",
    "version": 3
   },
   "file_extension": ".py",
   "mimetype": "text/x-python",
   "name": "python",
   "nbconvert_exporter": "python",
   "pygments_lexer": "ipython3",
   "version": "3.10.2"
  }
 },
 "nbformat": 4,
 "nbformat_minor": 5
}
