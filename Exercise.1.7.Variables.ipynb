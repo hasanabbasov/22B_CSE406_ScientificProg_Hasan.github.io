{
 "cells": [
  {
   "cell_type": "code",
   "execution_count": 1,
   "id": "dceb3bee-6342-46c2-97fa-5b18ef4b8ef9",
   "metadata": {},
   "outputs": [
    {
     "name": "stdout",
     "output_type": "stream",
     "text": [
      "Hasan Abasov\n"
     ]
    }
   ],
   "source": [
    "a = \"Hasan Abasov\"\n",
    "print(a)"
   ]
  },
  {
   "cell_type": "code",
   "execution_count": null,
   "id": "6b5a9022-d6c8-49a4-b6ec-416bc433da9b",
   "metadata": {},
   "outputs": [],
   "source": []
  }
 ],
 "metadata": {
  "kernelspec": {
   "display_name": "Python 3 (ipykernel)",
   "language": "python",
   "name": "python3"
  },
  "language_info": {
   "codemirror_mode": {
    "name": "ipython",
    "version": 3
   },
   "file_extension": ".py",
   "mimetype": "text/x-python",
   "name": "python",
   "nbconvert_exporter": "python",
   "pygments_lexer": "ipython3",
   "version": "3.10.2"
  }
 },
 "nbformat": 4,
 "nbformat_minor": 5
}
