{
 "cells": [
  {
   "cell_type": "code",
   "execution_count": 16,
   "id": "170782c0-8f1a-4d29-b79c-1f72cf7a4d67",
   "metadata": {},
   "outputs": [
    {
     "name": "stdout",
     "output_type": "stream",
     "text": [
      "Hello, world!\n"
     ]
    }
   ],
   "source": [
    "# A)\n",
    "def hello_world():\n",
    "    print('Hello, world!')\n",
    "\n",
    "hello_world()"
   ]
  },
  {
   "cell_type": "code",
   "execution_count": 17,
   "id": "05187bf4-0d0c-4275-b51c-942b80f44fc1",
   "metadata": {},
   "outputs": [
    {
     "name": "stdout",
     "output_type": "stream",
     "text": [
      "Hello, world!\n"
     ]
    }
   ],
   "source": [
    "# B)\n",
    "def hello_name(name):\n",
    "    print(name)\n",
    "hello_name('Hello, world!')"
   ]
  },
  {
   "cell_type": "code",
   "execution_count": 20,
   "id": "581142f6-8512-42e1-9a52-a1b10004e2d8",
   "metadata": {},
   "outputs": [
    {
     "data": {
      "text/plain": [
       "'Hello, world!'"
      ]
     },
     "execution_count": 20,
     "metadata": {},
     "output_type": "execute_result"
    }
   ],
   "source": [
    "# C)\n",
    "# print is the r function we call. Calling Print will have your program print text immediately for you to see.\n",
    "# return is a key. When a return statement is reached, Python stops executing the current function by sending a value to where the function was called.\n",
    "def hello_name(name):\n",
    "    return(name)\n",
    "hello_name('Hello, world!')"
   ]
  },
  {
   "cell_type": "code",
   "execution_count": null,
   "id": "c08b40e5-a9c7-4d4f-a216-3e0451aefdfa",
   "metadata": {},
   "outputs": [],
   "source": []
  }
 ],
 "metadata": {
  "kernelspec": {
   "display_name": "Python 3 (ipykernel)",
   "language": "python",
   "name": "python3"
  },
  "language_info": {
   "codemirror_mode": {
    "name": "ipython",
    "version": 3
   },
   "file_extension": ".py",
   "mimetype": "text/x-python",
   "name": "python",
   "nbconvert_exporter": "python",
   "pygments_lexer": "ipython3",
   "version": "3.10.2"
  }
 },
 "nbformat": 4,
 "nbformat_minor": 5
}
