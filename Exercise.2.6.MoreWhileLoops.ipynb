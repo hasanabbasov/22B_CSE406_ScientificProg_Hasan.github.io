{
 "cells": [
  {
   "cell_type": "code",
   "execution_count": 1,
   "id": "8fda7e96-4876-4df8-91ec-1b3cd3e2ec58",
   "metadata": {},
   "outputs": [
    {
     "name": "stdout",
     "output_type": "stream",
     "text": [
      "2520\n"
     ]
    }
   ],
   "source": [
    "smallestNumber = 1\n",
    "while True:\n",
    "    research = True\n",
    "    for i in range(1,11):\n",
    "        if not smallestNumber % i == 0:\n",
    "            research = False\n",
    "    if not research:\n",
    "        smallestNumber = smallestNumber + 1\n",
    "    else:\n",
    "        break\n",
    "print(smallestNumber)"
   ]
  },
  {
   "cell_type": "code",
   "execution_count": null,
   "id": "1706f3c2-1b0d-4e76-8d4e-aa55dc54f691",
   "metadata": {},
   "outputs": [],
   "source": []
  }
 ],
 "metadata": {
  "kernelspec": {
   "display_name": "Python 3 (ipykernel)",
   "language": "python",
   "name": "python3"
  },
  "language_info": {
   "codemirror_mode": {
    "name": "ipython",
    "version": 3
   },
   "file_extension": ".py",
   "mimetype": "text/x-python",
   "name": "python",
   "nbconvert_exporter": "python",
   "pygments_lexer": "ipython3",
   "version": "3.10.2"
  }
 },
 "nbformat": 4,
 "nbformat_minor": 5
}
